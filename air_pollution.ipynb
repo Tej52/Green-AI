{
 "cells": [
  {
   "cell_type": "code",
   "execution_count": 3,
   "metadata": {},
   "outputs": [
    {
     "data": {
      "text/plain": [
       "True"
      ]
     },
     "execution_count": 3,
     "metadata": {},
     "output_type": "execute_result"
    }
   ],
   "source": [
    "import pandas as pd\n",
    "import folium\n",
    "import requests\n",
    "\n",
    "\n",
    "# Step 2: Create a sample dataset (or use actual data)\n",
    "# Assuming you have data with location (lat, lon) and AQI or pollution level\n",
    "# Example of data format:\n",
    "air_quality_data = pd.DataFrame({\n",
    "    'city': ['Delhi', 'Mumbai', 'Bangalore', 'Chennai'],\n",
    "    'latitude': [28.7041, 19.0760, 12.9716, 13.0827],\n",
    "    'longitude': [77.1025, 72.8777, 77.5946, 80.2707],\n",
    "    'AQI': [300, 150, 100, 80]  # Example AQI values\n",
    "})\n",
    "\n",
    "# Step 3: Initialize the map centered around India\n",
    "india_map = folium.Map(location=[20.5937, 78.9629], zoom_start=5)\n",
    "\n",
    "# Step 4: Add markers for each city with AQI\n",
    "for _, row in air_quality_data.iterrows():\n",
    "    folium.CircleMarker(\n",
    "        location=[row['latitude'], row['longitude']],\n",
    "        radius=10,\n",
    "        popup=f\"City: {row['city']}\\nAQI: {row['AQI']}\",\n",
    "        color='red' if row['AQI'] > 150 else 'orange' if row['AQI'] > 100 else 'green',\n",
    "        fill=True,\n",
    "        fill_opacity=0.7\n",
    "    ).add_to(india_map)\n",
    "\n",
    "# Step 5: Save the map as an HTML file\n",
    "india_map.save(\"india_air_quality_map.html\")\n",
    "\n",
    "# Step 6: Open the map in a browser (optional)\n",
    "import webbrowser\n",
    "webbrowser.open(\"india_air_quality_map.html\")\n"
   ]
  },
  {
   "cell_type": "code",
   "execution_count": 47,
   "metadata": {},
   "outputs": [
    {
     "name": "stdout",
     "output_type": "stream",
     "text": [
      "<Response [200]>\n"
     ]
    }
   ],
   "source": [
    "import requests as req\n",
    "\n",
    "city = 'London'\n",
    "api_key = 'e1e03932b8e4a7156d975cc19f0e88062cf887ea'\n",
    "\n",
    "url = f'https://api.waqi.info/feed/{city}/?token=e1e03932b8e4a7156d975cc19f0e88062cf887ea'\n",
    "\n",
    "res = req.get(url)\n",
    "\n",
    "print(res)"
   ]
  },
  {
   "cell_type": "code",
   "execution_count": 48,
   "metadata": {},
   "outputs": [
    {
     "data": {
      "text/plain": [
       "{'status': 'ok',\n",
       " 'data': {'aqi': 21,\n",
       "  'idx': 5724,\n",
       "  'attributions': [{'url': 'http://uk-air.defra.gov.uk/',\n",
       "    'name': 'UK-AIR, air quality information resource - Defra, UK',\n",
       "    'logo': 'UK-Department-for-environment-food-and-rural-affairs.png'},\n",
       "   {'url': 'https://londonair.org.uk/',\n",
       "    'name': \"London Air Quality Network - Environmental Research Group, King's College London\",\n",
       "    'logo': 'UK-London-Kings-College.png'},\n",
       "   {'url': 'https://waqi.info/', 'name': 'World Air Quality Index Project'}],\n",
       "  'city': {'geo': [51.5073509, -0.1277583],\n",
       "   'name': 'London',\n",
       "   'url': 'https://aqicn.org/city/london',\n",
       "   'location': ''},\n",
       "  'dominentpol': 'pm25',\n",
       "  'iaqi': {'co': {'v': 3.7},\n",
       "   'h': {'v': 91.2},\n",
       "   'no2': {'v': 18.3},\n",
       "   'o3': {'v': 5.7},\n",
       "   'p': {'v': 1007.3},\n",
       "   'pm10': {'v': 10},\n",
       "   'pm25': {'v': 21},\n",
       "   'so2': {'v': 2.6},\n",
       "   't': {'v': 13.1},\n",
       "   'w': {'v': 7}},\n",
       "  'time': {'s': '2024-10-01 14:00:00',\n",
       "   'tz': '+01:00',\n",
       "   'v': 1727791200,\n",
       "   'iso': '2024-10-01T14:00:00+01:00'},\n",
       "  'forecast': {'daily': {'o3': [{'avg': 8,\n",
       "      'day': '2024-09-29',\n",
       "      'max': 14,\n",
       "      'min': 1},\n",
       "     {'avg': 9, 'day': '2024-09-30', 'max': 13, 'min': 6},\n",
       "     {'avg': 7, 'day': '2024-10-01', 'max': 10, 'min': 4},\n",
       "     {'avg': 9, 'day': '2024-10-02', 'max': 12, 'min': 6},\n",
       "     {'avg': 7, 'day': '2024-10-03', 'max': 16, 'min': 1},\n",
       "     {'avg': 1, 'day': '2024-10-04', 'max': 12, 'min': 1},\n",
       "     {'avg': 7, 'day': '2024-10-05', 'max': 12, 'min': 1},\n",
       "     {'avg': 13, 'day': '2024-10-06', 'max': 13, 'min': 12}],\n",
       "    'pm10': [{'avg': 9, 'day': '2024-09-29', 'max': 12, 'min': 5},\n",
       "     {'avg': 8, 'day': '2024-09-30', 'max': 15, 'min': 4},\n",
       "     {'avg': 7, 'day': '2024-10-01', 'max': 10, 'min': 4},\n",
       "     {'avg': 13, 'day': '2024-10-02', 'max': 15, 'min': 10},\n",
       "     {'avg': 10, 'day': '2024-10-03', 'max': 13, 'min': 7},\n",
       "     {'avg': 14, 'day': '2024-10-04', 'max': 17, 'min': 8},\n",
       "     {'avg': 13, 'day': '2024-10-05', 'max': 28, 'min': 6},\n",
       "     {'avg': 6, 'day': '2024-10-06', 'max': 6, 'min': 6}],\n",
       "    'pm25': [{'avg': 25, 'day': '2024-09-29', 'max': 36, 'min': 11},\n",
       "     {'avg': 16, 'day': '2024-09-30', 'max': 24, 'min': 11},\n",
       "     {'avg': 17, 'day': '2024-10-01', 'max': 22, 'min': 10},\n",
       "     {'avg': 21, 'day': '2024-10-02', 'max': 27, 'min': 17},\n",
       "     {'avg': 15, 'day': '2024-10-03', 'max': 18, 'min': 9},\n",
       "     {'avg': 29, 'day': '2024-10-04', 'max': 38, 'min': 14},\n",
       "     {'avg': 31, 'day': '2024-10-05', 'max': 65, 'min': 14},\n",
       "     {'avg': 14, 'day': '2024-10-06', 'max': 16, 'min': 14}],\n",
       "    'uvi': [{'avg': 0, 'day': '2024-09-23', 'max': 2, 'min': 0},\n",
       "     {'avg': 0, 'day': '2024-09-24', 'max': 2, 'min': 0},\n",
       "     {'avg': 0, 'day': '2024-09-25', 'max': 2, 'min': 0},\n",
       "     {'avg': 0, 'day': '2024-09-26', 'max': 2, 'min': 0},\n",
       "     {'avg': 0, 'day': '2024-09-27', 'max': 1, 'min': 0},\n",
       "     {'avg': 0, 'day': '2024-09-28', 'max': 2, 'min': 0},\n",
       "     {'avg': 1, 'day': '2024-09-29', 'max': 3, 'min': 0}]}},\n",
       "  'debug': {'sync': '2024-10-01T23:46:08+09:00'}}}"
      ]
     },
     "execution_count": 48,
     "metadata": {},
     "output_type": "execute_result"
    }
   ],
   "source": [
    "json = res.json()\n",
    "json"
   ]
  },
  {
   "cell_type": "code",
   "execution_count": 49,
   "metadata": {},
   "outputs": [
    {
     "data": {
      "text/plain": [
       "21"
      ]
     },
     "execution_count": 49,
     "metadata": {},
     "output_type": "execute_result"
    }
   ],
   "source": [
    "aqi = json['data']['aqi']\n",
    "aqi\n"
   ]
  },
  {
   "cell_type": "code",
   "execution_count": 62,
   "metadata": {},
   "outputs": [],
   "source": [
    "def aqi(city):\n",
    "    city = str(city)\n",
    "    url = f'https://api.waqi.info/feed/{city}/?token=e1e03932b8e4a7156d975cc19f0e88062cf887ea'\n",
    "    res = req.get(url)\n",
    "    json = res.json()\n",
    "    aqi_index = json['data']['aqi']\n",
    "    return f'The {city} AQI [ Air Quality Index ] is {aqi_index}'"
   ]
  },
  {
   "cell_type": "code",
   "execution_count": 64,
   "metadata": {},
   "outputs": [
    {
     "data": {
      "text/plain": [
       "'The london AQI [ Air Quality Index ] is 21'"
      ]
     },
     "execution_count": 64,
     "metadata": {},
     "output_type": "execute_result"
    }
   ],
   "source": [
    "aqi('london')"
   ]
  },
  {
   "cell_type": "code",
   "execution_count": 3,
   "metadata": {},
   "outputs": [
    {
     "data": {
      "text/html": [
       "<div>\n",
       "<style scoped>\n",
       "    .dataframe tbody tr th:only-of-type {\n",
       "        vertical-align: middle;\n",
       "    }\n",
       "\n",
       "    .dataframe tbody tr th {\n",
       "        vertical-align: top;\n",
       "    }\n",
       "\n",
       "    .dataframe thead th {\n",
       "        text-align: right;\n",
       "    }\n",
       "</style>\n",
       "<table border=\"1\" class=\"dataframe\">\n",
       "  <thead>\n",
       "    <tr style=\"text-align: right;\">\n",
       "      <th></th>\n",
       "      <th>city</th>\n",
       "      <th>lat</th>\n",
       "      <th>lng</th>\n",
       "      <th>country</th>\n",
       "      <th>iso2</th>\n",
       "      <th>admin_name</th>\n",
       "      <th>capital</th>\n",
       "      <th>population</th>\n",
       "      <th>population_proper</th>\n",
       "    </tr>\n",
       "  </thead>\n",
       "  <tbody>\n",
       "    <tr>\n",
       "      <th>0</th>\n",
       "      <td>Delhi</td>\n",
       "      <td>28.6600</td>\n",
       "      <td>77.2300</td>\n",
       "      <td>India</td>\n",
       "      <td>IN</td>\n",
       "      <td>Delhi</td>\n",
       "      <td>admin</td>\n",
       "      <td>29617000.0</td>\n",
       "      <td>16753235.0</td>\n",
       "    </tr>\n",
       "    <tr>\n",
       "      <th>1</th>\n",
       "      <td>Mumbai</td>\n",
       "      <td>18.9667</td>\n",
       "      <td>72.8333</td>\n",
       "      <td>India</td>\n",
       "      <td>IN</td>\n",
       "      <td>Mahārāshtra</td>\n",
       "      <td>admin</td>\n",
       "      <td>23355000.0</td>\n",
       "      <td>12478447.0</td>\n",
       "    </tr>\n",
       "    <tr>\n",
       "      <th>2</th>\n",
       "      <td>Kolkāta</td>\n",
       "      <td>22.5411</td>\n",
       "      <td>88.3378</td>\n",
       "      <td>India</td>\n",
       "      <td>IN</td>\n",
       "      <td>West Bengal</td>\n",
       "      <td>admin</td>\n",
       "      <td>17560000.0</td>\n",
       "      <td>4496694.0</td>\n",
       "    </tr>\n",
       "    <tr>\n",
       "      <th>3</th>\n",
       "      <td>Bangalore</td>\n",
       "      <td>12.9699</td>\n",
       "      <td>77.5980</td>\n",
       "      <td>India</td>\n",
       "      <td>IN</td>\n",
       "      <td>Karnātaka</td>\n",
       "      <td>admin</td>\n",
       "      <td>13707000.0</td>\n",
       "      <td>8443675.0</td>\n",
       "    </tr>\n",
       "    <tr>\n",
       "      <th>4</th>\n",
       "      <td>Chennai</td>\n",
       "      <td>13.0825</td>\n",
       "      <td>80.2750</td>\n",
       "      <td>India</td>\n",
       "      <td>IN</td>\n",
       "      <td>Tamil Nādu</td>\n",
       "      <td>admin</td>\n",
       "      <td>11324000.0</td>\n",
       "      <td>6727000.0</td>\n",
       "    </tr>\n",
       "  </tbody>\n",
       "</table>\n",
       "</div>"
      ],
      "text/plain": [
       "        city      lat      lng country iso2   admin_name capital  population  \\\n",
       "0      Delhi  28.6600  77.2300   India   IN        Delhi   admin  29617000.0   \n",
       "1     Mumbai  18.9667  72.8333   India   IN  Mahārāshtra   admin  23355000.0   \n",
       "2    Kolkāta  22.5411  88.3378   India   IN  West Bengal   admin  17560000.0   \n",
       "3  Bangalore  12.9699  77.5980   India   IN    Karnātaka   admin  13707000.0   \n",
       "4    Chennai  13.0825  80.2750   India   IN   Tamil Nādu   admin  11324000.0   \n",
       "\n",
       "   population_proper  \n",
       "0         16753235.0  \n",
       "1         12478447.0  \n",
       "2          4496694.0  \n",
       "3          8443675.0  \n",
       "4          6727000.0  "
      ]
     },
     "execution_count": 3,
     "metadata": {},
     "output_type": "execute_result"
    }
   ],
   "source": [
    "import pandas as pd\n",
    "\n",
    "data = pd.read_csv(r\"India Cities LatLng.csv\")\n",
    "\n",
    "data.head()"
   ]
  }
 ],
 "metadata": {
  "kernelspec": {
   "display_name": "env",
   "language": "python",
   "name": "python3"
  },
  "language_info": {
   "codemirror_mode": {
    "name": "ipython",
    "version": 3
   },
   "file_extension": ".py",
   "mimetype": "text/x-python",
   "name": "python",
   "nbconvert_exporter": "python",
   "pygments_lexer": "ipython3",
   "version": "3.12.6"
  }
 },
 "nbformat": 4,
 "nbformat_minor": 2
}
